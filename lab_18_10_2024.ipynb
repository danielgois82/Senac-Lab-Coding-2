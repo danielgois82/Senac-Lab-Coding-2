{
 "cells": [
  {
   "cell_type": "code",
   "execution_count": 3,
   "metadata": {},
   "outputs": [
    {
     "name": "stdout",
     "output_type": "stream",
     "text": [
      "0 t\n",
      "1 r\n",
      "2 a\n",
      "3 n\n",
      "4 q\n",
      "5 u\n",
      "6 i\n",
      "7 l\n",
      "8 o\n"
     ]
    }
   ],
   "source": [
    "p = 'tranquilo'\n",
    "for idx, letra in enumerate(p):\n",
    "    print(idx, letra)"
   ]
  },
  {
   "cell_type": "code",
   "execution_count": 22,
   "metadata": {},
   "outputs": [
    {
     "name": "stdout",
     "output_type": "stream",
     "text": [
      "Produto 1: 1.00\n",
      "Produto 2: 2.00\n",
      "Produto 3: 3.00\n",
      "O produto a comprar é: 1.00\n"
     ]
    }
   ],
   "source": [
    "preco1 = float(input('Digite o preço do produto 1: '))\n",
    "preco2 = float(input('Digite o preço do produto 2: '))\n",
    "preco3 = float(input('Digite o preço do produto 3: '))\n",
    "\n",
    "print(f'Produto 1: {preco1:.2f}')\n",
    "print(f'Produto 2: {preco2:.2f}')\n",
    "print(f'Produto 3: {preco3:.2f}')\n",
    "\n",
    "if preco1 <= preco2 and preco1 <= preco3:\n",
    "    print(f'O produto a comprar é: {preco1:.2f}')\n",
    "elif preco2 <= preco1 and preco2 <= preco3:\n",
    "    print(f'O produto a comprar é: {preco2:.2f}')\n",
    "else:\n",
    "    print(f'O produto a comprar é: {preco3:.2f}')"
   ]
  },
  {
   "cell_type": "code",
   "execution_count": 49,
   "metadata": {},
   "outputs": [
    {
     "name": "stdout",
     "output_type": "stream",
     "text": [
      "A letra 'a' é vogal.\n"
     ]
    }
   ],
   "source": [
    "letra = str(input('Digite uma letra: '))\n",
    "if len(letra) > 1:\n",
    "    print('Você não digitou apenas uma letra.')\n",
    "else:\n",
    "    if letra.lower() in ['a','e','i','o','u']:\n",
    "            print(f'A letra \\'{letra}\\' é vogal.')\n",
    "    else:\n",
    "        print(f'A letra \\'{letra}\\' é consoante.')"
   ]
  },
  {
   "cell_type": "code",
   "execution_count": 46,
   "metadata": {},
   "outputs": [
    {
     "name": "stdout",
     "output_type": "stream",
     "text": [
      "A ordem descendente é: 3, 2 e 1\n"
     ]
    }
   ],
   "source": [
    "num1 = int(input('Digite o numero 1: '))\n",
    "num2 = int(input('Digite o numero 2: '))\n",
    "num3 = int(input('Digite o numero 3: '))\n",
    "\n",
    "maior = 0\n",
    "meio = 0\n",
    "menor = 0\n",
    "\n",
    "if num1 >= num2:\n",
    "    if num1 >= num3:\n",
    "        maior = num1\n",
    "    if num2 >= num3:\n",
    "        meio = num2\n",
    "        menor = num3\n",
    "    else:\n",
    "        meio = num3\n",
    "        menor = num2\n",
    "\n",
    "if num2 >= num1:\n",
    "    if num2 >= num3:\n",
    "        maior = num2\n",
    "    if num1 >= num3:\n",
    "        meio = num1\n",
    "        menor = num3\n",
    "    else:\n",
    "        meio = num3\n",
    "        menor = num1\n",
    "\n",
    "if num3 >= num1:\n",
    "    if num3 >= num2:\n",
    "        maior = num3\n",
    "    if num2 >= num1:\n",
    "        meio = num2\n",
    "        menor = num1\n",
    "    else:\n",
    "        meio = num1\n",
    "        menor = num2\n",
    "\n",
    "print(f'A ordem descendente é: {maior}, {meio} e {menor}')"
   ]
  },
  {
   "cell_type": "code",
   "execution_count": 41,
   "metadata": {},
   "outputs": [
    {
     "name": "stdout",
     "output_type": "stream",
     "text": [
      "Bom dia!\n"
     ]
    }
   ],
   "source": [
    "turno = input('Qual turno você estuda (\"M\", \"V\" ou \"N\"): ')\n",
    "if turno.upper() == 'M':\n",
    "    print('Bom dia!')\n",
    "elif turno.upper() == 'V':\n",
    "    print('Boa tarde!')\n",
    "elif turno.upper() == 'N':\n",
    "    print('Boa noite!')\n",
    "else:\n",
    "    print('Valor inválido!')"
   ]
  }
 ],
 "metadata": {
  "kernelspec": {
   "display_name": "Python 3",
   "language": "python",
   "name": "python3"
  },
  "language_info": {
   "codemirror_mode": {
    "name": "ipython",
    "version": 3
   },
   "file_extension": ".py",
   "mimetype": "text/x-python",
   "name": "python",
   "nbconvert_exporter": "python",
   "pygments_lexer": "ipython3",
   "version": "3.13.0"
  }
 },
 "nbformat": 4,
 "nbformat_minor": 2
}
