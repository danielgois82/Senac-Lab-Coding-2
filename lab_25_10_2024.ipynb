{
 "cells": [
  {
   "cell_type": "code",
   "execution_count": 3,
   "metadata": {},
   "outputs": [
    {
     "name": "stdout",
     "output_type": "stream",
     "text": [
      "Domingo\n"
     ]
    }
   ],
   "source": [
    "num = int(input('Digite um numero: '))\n",
    "if num == 1:\n",
    "    print('Domingo')\n",
    "elif num == 2:\n",
    "    print('Segunda')\n",
    "elif num == 3:\n",
    "    print('Terça')\n",
    "elif num == 4:\n",
    "    print('Quarta')\n",
    "elif num == 5:\n",
    "    print('Qunita')\n",
    "elif num == 6:\n",
    "    print('Sexta')\n",
    "elif num == 7:\n",
    "    print('Sábado')\n",
    "else:\n",
    "    print('Numero inválido')"
   ]
  },
  {
   "cell_type": "code",
   "execution_count": 10,
   "metadata": {},
   "outputs": [
    {
     "name": "stdout",
     "output_type": "stream",
     "text": [
      "Conceito E, sua nota: 1.00, Reprovado.\n"
     ]
    }
   ],
   "source": [
    "n1 = float(input('Digite a primeira nota: '))\n",
    "n2 = float(input('Digite a segunda nota: '))\n",
    "media = (n1 + n2) / 2\n",
    "if media >= 9.0:\n",
    "    print(f'Conceito A, sua nota: {media:.2f}, Aprovado.')\n",
    "elif media >= 7.5:\n",
    "    print(f'Conceito B, sua nota: {media:.2f}, Aprovado.')\n",
    "elif media >= 6.0:\n",
    "    print(f'Conceito C, sua nota: {media:.2f}, Aprovado.')\n",
    "elif media >= 4.0:\n",
    "    print(f'Conceito D, sua nota: {media:.2f}, Reprovado.')\n",
    "else:\n",
    "    print(f'Conceito E, sua nota: {media:.2f}, Reprovado.')\n",
    "\n"
   ]
  },
  {
   "cell_type": "code",
   "execution_count": 13,
   "metadata": {},
   "outputs": [
    {
     "name": "stdout",
     "output_type": "stream",
     "text": [
      "Ano bissexto\n"
     ]
    }
   ],
   "source": [
    "ano = int(input('Digite o ano: '))\n",
    "if ano % 4 == 0:\n",
    "    print('Ano bissexto')\n",
    "else:\n",
    "    print('Ano não é bissexto')"
   ]
  },
  {
   "cell_type": "code",
   "execution_count": 20,
   "metadata": {},
   "outputs": [
    {
     "name": "stdout",
     "output_type": "stream",
     "text": [
      "Soma: resultado: -3, é um numero impar, é um numero negativo e é um numero inteiro.\n",
      "Subtração: resultado: 1, é um numero impar, é um numero positivo e é um numero inteiro.\n",
      "Multiplicação: resultado: 2, é um numero par, é um numero positivo e é um numero inteiro.\n",
      "Divisão: resultado: 0.50, é um numero impar, é um numero positivo e é um numero decimal.\n",
      "Exponenciação: resultado: 1.0, é um numero impar, é um numero positivo e é um numero inteiro.\n"
     ]
    }
   ],
   "source": [
    "num1 = int(input('Digite um numero'))\n",
    "num2 = int(input('Digite outro numero'))\n",
    "\n",
    "soma = num1 + num2\n",
    "subtracao = num1 - num2\n",
    "multiplicacao = num1 * num2\n",
    "divisao = num1 / num2\n",
    "exponenciacao = num1 ** num2\n",
    "\n",
    "if soma % 2 == 0:\n",
    "    soma_par_ou_impar = 'par'\n",
    "else:\n",
    "    soma_par_ou_impar = 'impar'\n",
    "\n",
    "if subtracao % 2 == 0:\n",
    "    subtracao_par_ou_impar = 'par'\n",
    "else: \n",
    "    subtracao_par_ou_impar = 'impar'\n",
    "\n",
    "if multiplicacao % 2 == 0:\n",
    "    multiplicacao_par_ou_impar = 'par'\n",
    "else: \n",
    "    multiplicacao_par_ou_impar = 'impar'\n",
    "\n",
    "if divisao % 2 == 0:\n",
    "    divisao_par_ou_impar = 'par'\n",
    "else: \n",
    "    divisao_par_ou_impar = 'impar'\n",
    "\n",
    "if exponenciacao % 2 == 0:\n",
    "    exponenciacao_par_ou_impar = 'par'\n",
    "else: \n",
    "    exponenciacao_par_ou_impar = 'impar'\n",
    "\n",
    "if soma == 0:\n",
    "    soma_positivo_ou_negativo = 'neutro'\n",
    "elif soma < 0:\n",
    "    soma_positivo_ou_negativo = 'negativo'\n",
    "else:\n",
    "    soma_positivo_ou_negativo = 'positivo'\n",
    "\n",
    "if subtracao == 0:\n",
    "    subtracao_positivo_ou_negativo = 'neutro'\n",
    "elif subtracao < 0:\n",
    "    subtracao_positivo_ou_negativo = 'negativo'\n",
    "else:\n",
    "    subtracao_positivo_ou_negativo = 'positivo'\n",
    "\n",
    "if multiplicacao == 0:\n",
    "    multiplicacao_positivo_ou_negativo = 'neutro'\n",
    "elif multiplicacao < 0:\n",
    "    multiplicacao_positivo_ou_negativo = 'negativo'\n",
    "else:\n",
    "    multiplicacao_positivo_ou_negativo = 'positivo'\n",
    "\n",
    "if divisao == 0:\n",
    "    divisao_positivo_ou_negativo = 'neutro'\n",
    "elif divisao < 0:\n",
    "    divisao_positivo_ou_negativo = 'negativo'\n",
    "else:\n",
    "    divisao_positivo_ou_negativo = 'positivo'\n",
    "\n",
    "if exponenciacao == 0:\n",
    "    exponenciacao_positivo_ou_negativo = 'neutro'\n",
    "elif exponenciacao < 0:\n",
    "    exponenciacao_positivo_ou_negativo = 'negativo'\n",
    "else:\n",
    "    exponenciacao_positivo_ou_negativo = 'positivo'\n",
    "\n",
    "if soma % 1 == 0:\n",
    "    soma_inteiro_ou_decimal = 'inteiro'\n",
    "else:\n",
    "    soma_inteiro_ou_decimal = 'decimal'\n",
    "\n",
    "if subtracao % 1 == 0:\n",
    "    subtracao_inteiro_ou_decimal = 'inteiro'\n",
    "else:\n",
    "    subtracao_inteiro_ou_decimal = 'decimal'\n",
    "\n",
    "if multiplicacao % 1 == 0:\n",
    "    multiplicacao_inteiro_ou_decimal = 'inteiro'\n",
    "else:\n",
    "    multiplicacao_inteiro_ou_decimal = 'decimal'\n",
    "\n",
    "if divisao % 1 == 0:\n",
    "    divisao_inteiro_ou_decimal = 'inteiro'\n",
    "else:\n",
    "    divisao_inteiro_ou_decimal = 'decimal'\n",
    "\n",
    "if exponenciacao % 1 == 0:\n",
    "    exponenciacao_inteiro_ou_decimal = 'inteiro'\n",
    "else:\n",
    "    exponenciacao_inteiro_ou_decimal = 'decimal'\n",
    "\n",
    "print(f'Soma: resultado: {soma}, é um numero {soma_par_ou_impar}, é um numero {soma_positivo_ou_negativo} e é um numero {soma_inteiro_ou_decimal}.')\n",
    "print(f'Subtração: resultado: {subtracao}, é um numero {subtracao_par_ou_impar}, é um numero {subtracao_positivo_ou_negativo} e é um numero {subtracao_inteiro_ou_decimal}.')\n",
    "print(f'Multiplicação: resultado: {multiplicacao}, é um numero {multiplicacao_par_ou_impar}, é um numero {multiplicacao_positivo_ou_negativo} e é um numero {multiplicacao_inteiro_ou_decimal}.')\n",
    "print(f'Divisão: resultado: {divisao:.2f}, é um numero {divisao_par_ou_impar}, é um numero {divisao_positivo_ou_negativo} e é um numero {divisao_inteiro_ou_decimal}.')\n",
    "print(f'Exponenciação: resultado: {exponenciacao}, é um numero {exponenciacao_par_ou_impar}, é um numero {exponenciacao_positivo_ou_negativo} e é um numero {exponenciacao_inteiro_ou_decimal}.')"
   ]
  },
  {
   "cell_type": "code",
   "execution_count": 22,
   "metadata": {},
   "outputs": [
    {
     "name": "stdout",
     "output_type": "stream",
     "text": [
      "Idade: 10\n"
     ]
    }
   ],
   "source": [
    "idade = int(input('Digite a idade: '))\n",
    "if idade < 0 or idade > 150:\n",
    "    print('Valor da idade fora do limite.')\n",
    "else:\n",
    "    print(f'Idade: {idade}')"
   ]
  },
  {
   "cell_type": "code",
   "execution_count": 24,
   "metadata": {},
   "outputs": [
    {
     "name": "stdout",
     "output_type": "stream",
     "text": [
      "Soma: 15\n",
      "Média: 3.00\n"
     ]
    }
   ],
   "source": [
    "lista = []\n",
    "for i in range(5):\n",
    "    num = int(input(f'Digite o numero {i + 1}: '))\n",
    "    lista.append(num)\n",
    "\n",
    "soma = 0\n",
    "for i in lista:\n",
    "    soma += i\n",
    "\n",
    "media = soma / len(lista)\n",
    "\n",
    "print(f'Soma: {soma}')\n",
    "print(f'Média: {media:.2f}')"
   ]
  },
  {
   "cell_type": "code",
   "execution_count": 27,
   "metadata": {},
   "outputs": [
    {
     "name": "stdout",
     "output_type": "stream",
     "text": [
      "10 não é um numero primo\n"
     ]
    }
   ],
   "source": [
    "num = int(input('Digite um numero: '))\n",
    "contador = 0\n",
    "for i in range(1, num + 1):\n",
    "    if num % i == 0:\n",
    "        contador += 1\n",
    "if contador == 2:\n",
    "    print(f'{num} é um numero primo')\n",
    "else:\n",
    "    print(f'{num} não é um numero primo')"
   ]
  },
  {
   "cell_type": "code",
   "execution_count": 34,
   "metadata": {},
   "outputs": [
    {
     "name": "stdout",
     "output_type": "stream",
     "text": [
      "Menor temperatura: -4.00\n",
      "Maior temperatura: 35.50\n",
      "Média: 7.50\n"
     ]
    }
   ],
   "source": [
    "lista = []\n",
    "for i in range(5):\n",
    "    num = float(input(f'Digite a temperatura {i + 1}: '))\n",
    "    lista.append(num)\n",
    "\n",
    "lista.sort()\n",
    "menor = lista[0]\n",
    "maior = lista[-1]\n",
    "\n",
    "soma = 0\n",
    "for i in lista:\n",
    "    soma += i\n",
    "\n",
    "media = soma / len(lista)\n",
    "\n",
    "print(f'Menor temperatura: {menor:.2f}')\n",
    "print(f'Maior temperatura: {maior:.2f}')\n",
    "print(f'Média: {media:.2f}')"
   ]
  },
  {
   "cell_type": "code",
   "execution_count": 40,
   "metadata": {},
   "outputs": [
    {
     "name": "stdout",
     "output_type": "stream",
     "text": [
      "Saldo: R$ 1000.00, crédito: R$ 400.00\n"
     ]
    }
   ],
   "source": [
    "saldo = float(input('Digite o saldo: '))\n",
    "perc = 0\n",
    "if saldo < 200:\n",
    "    perc = 0\n",
    "elif saldo < 400:\n",
    "    perc = saldo * 0.2\n",
    "elif saldo < 600:\n",
    "    perc = saldo * 0.3\n",
    "else:\n",
    "    perc = saldo * 0.4\n",
    "print(f'Saldo: R$ {saldo:.2f}, crédito: R$ {perc:.2f}')"
   ]
  },
  {
   "cell_type": "code",
   "execution_count": 47,
   "metadata": {},
   "outputs": [
    {
     "name": "stdout",
     "output_type": "stream",
     "text": [
      "Daniel, você poderá se aposentar no ano 2048.\n"
     ]
    }
   ],
   "source": [
    "nome = input('Digite seu nome: ')\n",
    "idade = int(input('Digite sua idade: '))\n",
    "ano_atual = 2024\n",
    "idade_para_aposentar = 65\n",
    "\n",
    "if idade >= idade_para_aposentar:\n",
    "    print(f'{nome}, você já pode se aposentar.')\n",
    "else:\n",
    "    ano_para_aposentar = ano_atual + (idade_para_aposentar - idade)\n",
    "    print(f'{nome}, você poderá se aposentar no ano {ano_para_aposentar}.')\n"
   ]
  },
  {
   "cell_type": "code",
   "execution_count": 55,
   "metadata": {},
   "outputs": [
    {
     "name": "stdout",
     "output_type": "stream",
     "text": [
      "Folha de pagamento do funcionário:\n",
      "Salário bruto: R$ 10000.00\n",
      "Valor do FGTS: R$ 1100.00\n",
      "Desconto do sindicato: R$ 300.00\n",
      "Desconto do imposto de renda: R$ 2750.00\n",
      "Salário liquido: R$ 6950.00\n"
     ]
    }
   ],
   "source": [
    "valor_hora = float(input('Digite o valor da sua hora trabalhada: '))\n",
    "qtd_horas = float(input('Digite quantidade de horas trabalhadas no mês: '))\n",
    "\n",
    "salario_bruto = valor_hora * qtd_horas\n",
    "sindicato = round(salario_bruto * (3/100), 2)\n",
    "fgts = round(salario_bruto * (11/100), 2)\n",
    "\n",
    "desconto_ir = 0.0\n",
    "if salario_bruto <= 2112.00:\n",
    "    desconto_ir = 0\n",
    "elif salario_bruto <= 2826.65:\n",
    "    desconto_ir = round(salario_bruto * (7.5/100), 2)\n",
    "elif salario_bruto <= 3751.05:\n",
    "    desconto_ir = round(salario_bruto * (15/100), 2)\n",
    "elif salario_bruto <= 4664.68:\n",
    "    desconto_ir = round(salario_bruto * (22.5/100), 2)\n",
    "else:\n",
    "    desconto_ir = round(salario_bruto * (27.5/100), 2)\n",
    "\n",
    "salario_liquido = salario_bruto - sindicato - desconto_ir\n",
    "\n",
    "print('Folha de pagamento do funcionário:')\n",
    "print(f'Salário bruto: R$ {salario_bruto:.2f}')\n",
    "print(f'Valor do FGTS: R$ {fgts:.2f}')\n",
    "print(f'Desconto do sindicato: R$ {sindicato:.2f}')\n",
    "print(f'Desconto do imposto de renda: R$ {desconto_ir:.2f}')\n",
    "print(f'Salário liquido: R$ {salario_liquido:.2f}')"
   ]
  }
 ],
 "metadata": {
  "kernelspec": {
   "display_name": "Python 3",
   "language": "python",
   "name": "python3"
  },
  "language_info": {
   "codemirror_mode": {
    "name": "ipython",
    "version": 3
   },
   "file_extension": ".py",
   "mimetype": "text/x-python",
   "name": "python",
   "nbconvert_exporter": "python",
   "pygments_lexer": "ipython3",
   "version": "3.13.0"
  }
 },
 "nbformat": 4,
 "nbformat_minor": 2
}
