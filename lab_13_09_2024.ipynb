{
 "cells": [
  {
   "cell_type": "code",
   "execution_count": 9,
   "metadata": {},
   "outputs": [
    {
     "name": "stdout",
     "output_type": "stream",
     "text": [
      "3 - numero impar\n"
     ]
    }
   ],
   "source": [
    "numero = int(input(\"Digite um numero: \"))\n",
    "if numero % 2 == 0:\n",
    "    print(numero, \"- numero par\")\n",
    "else:\n",
    "    print(numero, \"- numero impar\")"
   ]
  },
  {
   "cell_type": "code",
   "execution_count": 12,
   "metadata": {},
   "outputs": [
    {
     "name": "stdout",
     "output_type": "stream",
     "text": [
      "aula2 - desconto de 10%\n"
     ]
    }
   ],
   "source": [
    "cupom = input(\"Digite o cupom: \")\n",
    "if cupom == \"aula1\":\n",
    "    print(cupom, \"- desconto de 15%\")\n",
    "elif cupom == \"aula2\":\n",
    "    print(cupom, \"- desconto de 10%\")\n",
    "else:\n",
    "    print(cupom, \"- desconto de 5%\")"
   ]
  },
  {
   "cell_type": "code",
   "execution_count": 20,
   "metadata": {},
   "outputs": [
    {
     "name": "stdout",
     "output_type": "stream",
     "text": [
      "Praia\n"
     ]
    }
   ],
   "source": [
    "sol = input(\"Está ensolarado hoje? (sim/não): \")\n",
    "dinheiro = input(\"Tenho dinheiro? (sim/não): \")\n",
    "if sol == \"sim\" and dinheiro == \"sim\":\n",
    "    print(\"Praia\")\n",
    "else:\n",
    "    print(\"Netflix\")"
   ]
  },
  {
   "cell_type": "code",
   "execution_count": 21,
   "metadata": {},
   "outputs": [
    {
     "name": "stdout",
     "output_type": "stream",
     "text": [
      "Praia\n"
     ]
    }
   ],
   "source": [
    "sol = input(\"Está ensolarado hoje? (sim/não): \")\n",
    "dinheiro = input(\"Tenho dinheiro? (sim/não): \")\n",
    "if sol == \"sim\" or dinheiro == \"sim\":\n",
    "    print(\"Praia\")\n",
    "else:\n",
    "    print(\"Netflix\")"
   ]
  },
  {
   "cell_type": "code",
   "execution_count": 25,
   "metadata": {},
   "outputs": [
    {
     "name": "stdout",
     "output_type": "stream",
     "text": [
      "Netflix\n"
     ]
    }
   ],
   "source": [
    "sol = input(\"Está ensolarado hoje? (sim/não): \")\n",
    "dinheiro = input(\"Tenho dinheiro? (sim/não): \")\n",
    "if sol == \"sim\":\n",
    "    if dinheiro == \"sim\":\n",
    "        print(\"Praia\")\n",
    "    else:\n",
    "        print(\"Netflix\")\n",
    "else:\n",
    "    print(\"Netflix\")"
   ]
  },
  {
   "cell_type": "code",
   "execution_count": 37,
   "metadata": {},
   "outputs": [
    {
     "name": "stdout",
     "output_type": "stream",
     "text": [
      "Taxa: 375.0\n"
     ]
    }
   ],
   "source": [
    "ano = int(input(\"Digite o ano do carro: \"))\n",
    "valor = float(input(\"Digite o valor do carro: \"))\n",
    "if ano < 1990:\n",
    "    taxa = valor * 0.01\n",
    "else:\n",
    "    taxa = valor * 0.015\n",
    "print(\"Taxa:\", taxa)"
   ]
  }
 ],
 "metadata": {
  "kernelspec": {
   "display_name": "Python 3",
   "language": "python",
   "name": "python3"
  },
  "language_info": {
   "codemirror_mode": {
    "name": "ipython",
    "version": 3
   },
   "file_extension": ".py",
   "mimetype": "text/x-python",
   "name": "python",
   "nbconvert_exporter": "python",
   "pygments_lexer": "ipython3",
   "version": "3.12.2"
  }
 },
 "nbformat": 4,
 "nbformat_minor": 2
}
