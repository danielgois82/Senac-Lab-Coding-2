{
 "cells": [
  {
   "cell_type": "code",
   "execution_count": 1,
   "metadata": {},
   "outputs": [
    {
     "name": "stdout",
     "output_type": "stream",
     "text": [
      "A barata diz que tem\n",
      " Sete saias de filó\n",
      " É mentira da barata\n",
      " Ela tem é uma só\n",
      " Há, há, há, hó, hó, hó\n",
      " Ela tem é uma só\n",
      " Há, há, há, hó, hó, hó\n",
      " Ela tem é uma só\n",
      "\n",
      "A barata diz que tem\n",
      " Um anel de formatura\n",
      " É mentira da barata\n",
      " Ela tem é a casca dura\n",
      " Há, há, há, hó, hó, hó\n",
      " Ela tem é a casca dura\n",
      " Há, há, há, hó, hó, hó\n",
      " Ela tem é a casca dura\n",
      "\n",
      "A barata diz que tem\n",
      " Um sapato de fivela\n",
      " É mentira da barata\n",
      " O sapato é da mãe dela\n",
      " Há, há, há, hó, hó, hó\n",
      " O sapato é da mãe dela\n",
      " Há, há, há, hó, hó, hó\n",
      " O sapato é da mãe dela\n",
      "\n",
      "A barata diz que tem\n",
      " Uma saia de cetim\n",
      " É mentira da barata\n",
      " Ela tem é de capim\n",
      " Há, há, há, hó, hó, hó\n",
      " Ela tem é de capim\n",
      " Há, há, há, hó, hó, hó\n",
      " Ela tem é de capim\n",
      "\n",
      "A barata diz que tem\n",
      " Um chinelo de veludo\n",
      " É mentira da barata\n",
      " Ela tem o pé peludo\n",
      " Há, há, há, hó, hó, hó\n",
      " Ela tem o pé peludo\n",
      " Há, há, há, hó, hó, hó\n",
      " Ela tem o pé peludo\n",
      "\n",
      "A barata diz que tem\n",
      " Sete saias de balão\n",
      " É mentira da barata\n",
      " Nem dinheiro pra sabão\n",
      " Há, há, há, hó, hó, hó\n",
      " Nem dinheiro pra sabão\n",
      " Há, há, há, hó, hó, hó\n",
      " Nem dinheiro pra sabão\n",
      "\n",
      "A barata diz que tem\n",
      " Um vestido de babado\n",
      " É mentira da barata\n",
      " O vestido tá rasgado\n",
      " Há, há, há, hó, hó, hó\n",
      " O vestido tá rasgado\n",
      " Há, há, há, hó, hó, hó\n",
      " O vestido tá rasgado\n",
      "\n",
      "A barata diz que tem\n",
      " Que viaja de avião\n",
      " É mentira da barata\n",
      " Ela vai é de busão\n",
      " Há, há, há, hó, hó, hó\n",
      " Ela vai é de busão\n",
      " Há, há, há, hó, hó, hó\n",
      " Ela vai é de busão\n",
      "\n"
     ]
    }
   ],
   "source": [
    "# Musica da barata\n",
    "frases = {\n",
    "    'Sete saias de filó\\n': 'Ela tem é uma só\\n',\n",
    "    'Um anel de formatura\\n':'Ela tem é a casca dura\\n',\n",
    "    'Um sapato de fivela\\n':'O sapato é da mãe dela\\n',\n",
    "    'Uma saia de cetim\\n':'Ela tem é de capim\\n',\n",
    "    'Um chinelo de veludo\\n':'Ela tem o pé peludo\\n',\n",
    "    'Sete saias de balão\\n':'Nem dinheiro pra sabão\\n',\n",
    "    'Um vestido de babado\\n':'O vestido tá rasgado\\n',\n",
    "    'Que viaja de avião\\n':'Ela vai é de busão\\n'\n",
    "}\n",
    "for mensagem, resposta in frases.items(): print('A barata diz que tem\\n', mensagem, 'É mentira da barata\\n', resposta, 'Há, há, há, hó, hó, hó\\n', resposta, 'Há, há, há, hó, hó, hó\\n', resposta)"
   ]
  },
  {
   "cell_type": "code",
   "execution_count": null,
   "metadata": {},
   "outputs": [
    {
     "name": "stdout",
     "output_type": "stream",
     "text": [
      "O animal: cachorro, faz: au! au!\n"
     ]
    }
   ],
   "source": [
    "# Exemplos de funções/métodos:\n",
    "def barulho(animal, som):\n",
    "    print(f'O animal: {animal}, faz: {som}')\n",
    "\n",
    "barulho('cachorro', 'au! au!')"
   ]
  },
  {
   "cell_type": "code",
   "execution_count": null,
   "metadata": {},
   "outputs": [
    {
     "name": "stdout",
     "output_type": "stream",
     "text": [
      "Boa tarde!\n"
     ]
    }
   ],
   "source": [
    "# Exemplos de funções/métodos:\n",
    "def saudacao():\n",
    "    print('Boa tarde!')\n",
    "\n",
    "saudacao()"
   ]
  },
  {
   "cell_type": "code",
   "execution_count": null,
   "metadata": {},
   "outputs": [
    {
     "name": "stdout",
     "output_type": "stream",
     "text": [
      "Login efetuado com sucesso.\n"
     ]
    }
   ],
   "source": [
    "# Exemplos de funções/métodos:\n",
    "def login(usuario, senha):\n",
    "    print('Login efetuado com sucesso.')\n",
    "\n",
    "login('usuario1', 'senha123')"
   ]
  },
  {
   "cell_type": "code",
   "execution_count": null,
   "metadata": {},
   "outputs": [
    {
     "name": "stdout",
     "output_type": "stream",
     "text": [
      "Soma de 2 + 3 = 5\n"
     ]
    }
   ],
   "source": [
    "# Exemplos de funções/métodos:\n",
    "def soma(n1, n2):\n",
    "    print(f'Soma de {n1} + {n2} =', n1 + n2)\n",
    "\n",
    "soma(2, 3)"
   ]
  },
  {
   "cell_type": "code",
   "execution_count": null,
   "metadata": {},
   "outputs": [
    {
     "name": "stdout",
     "output_type": "stream",
     "text": [
      "Seja Bem-vindo(a) Daniel ao SENAC!\n",
      "Seu nome: Daniel\n",
      "Sua idade: 42\n",
      "Seu CPF: 111.222.333-44\n",
      "\n",
      "Seja Bem-vindo(a) Empresa ABC ao SENAC!\n",
      "Seu nome: Empresa ABC\n",
      "Seu CNPJ: 12.345.678/0001-00\n",
      "Ano de abertura da empresa: 1950\n"
     ]
    }
   ],
   "source": [
    "# Desafio 1 do slide da aula: Criar as classes Pessoa, PessoaFisica e PessoaJuridica.\n",
    "from abc import ABC, abstractmethod\n",
    "\n",
    "class Pessoa(ABC):\n",
    "    @abstractmethod\n",
    "    def __init__(self, nome):\n",
    "        self.__nome = nome\n",
    "    \n",
    "    def getNome(self):\n",
    "        return self.__nome\n",
    "    \n",
    "    def setNome(self, nome):\n",
    "        self.__nome = nome\n",
    "    \n",
    "# Desafio 2 do slide da aula: Acrescentar um método que mostra uma mensagem de apresentação.\n",
    "    def apresentacao(self):\n",
    "        print(f'Seja Bem-vindo(a) {self.getNome()} ao SENAC!')\n",
    "\n",
    "class PessoaFisica(Pessoa):\n",
    "    def __init__(self, nome, idade, cpf):\n",
    "        super().__init__(nome)\n",
    "        self.__idade = idade\n",
    "        self.__cpf = cpf\n",
    "    \n",
    "    def getIdade(self):\n",
    "        return self.__idade\n",
    "    \n",
    "    def setIdade(self, idade):\n",
    "        self.__idade = idade\n",
    "\n",
    "    def getCpf(self):\n",
    "        return self.__cpf\n",
    "    \n",
    "    def setCpf(self, cpf):\n",
    "        self.__cpf = cpf\n",
    "\n",
    "class PessoaJuridica(Pessoa):\n",
    "    def __init__(self, nome, cnpj, anoAbertura):\n",
    "        super().__init__(nome)\n",
    "        self.__cnpj = cnpj\n",
    "        self.__anoAbertura = anoAbertura\n",
    "    \n",
    "    def getCnpj(self):\n",
    "        return self.__cnpj\n",
    "    \n",
    "    def setCnpj(self, cnpj):\n",
    "        self.__cnpj = cnpj\n",
    "\n",
    "    def getAnoAbertura(self):\n",
    "        return self.__anoAbertura\n",
    "    \n",
    "    def setAnoAbertura(self, anoAbertura):\n",
    "        self.__anoAbertura = anoAbertura\n",
    "\n",
    "# Testando as classes criadas:\n",
    "pf = PessoaFisica('Daniel', 42, '111.222.333-44')\n",
    "pf.apresentacao()\n",
    "print(f'Seu nome: {pf.getNome()}')\n",
    "print(f'Sua idade: {pf.getIdade()}')\n",
    "print(f'Seu CPF: {pf.getCpf()}')\n",
    "\n",
    "print()\n",
    "\n",
    "pj = PessoaJuridica('Empresa ABC', '12.345.678/0001-00', 1950)\n",
    "pj.apresentacao()\n",
    "print(f'Seu nome: {pj.getNome()}')\n",
    "print(f'Seu CNPJ: {pj.getCnpj()}')\n",
    "print(f'Ano de abertura da empresa: {pj.getAnoAbertura()}')\n"
   ]
  }
 ],
 "metadata": {
  "kernelspec": {
   "display_name": "Python 3",
   "language": "python",
   "name": "python3"
  },
  "language_info": {
   "codemirror_mode": {
    "name": "ipython",
    "version": 3
   },
   "file_extension": ".py",
   "mimetype": "text/x-python",
   "name": "python",
   "nbconvert_exporter": "python",
   "pygments_lexer": "ipython3",
   "version": "3.13.0"
  }
 },
 "nbformat": 4,
 "nbformat_minor": 2
}
