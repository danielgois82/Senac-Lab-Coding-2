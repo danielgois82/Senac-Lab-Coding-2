{
 "cells": [
  {
   "cell_type": "code",
   "execution_count": 10,
   "metadata": {},
   "outputs": [
    {
     "name": "stdout",
     "output_type": "stream",
     "text": [
      "Mariana conta 1 \n",
      "Mariana conta [1] é \n",
      "Ana, viva a Mariana, viva a Mariana\n",
      "\n",
      "Mariana conta 2 \n",
      "Mariana conta [1, 2] é \n",
      "Ana, viva a Mariana, viva a Mariana\n",
      "\n",
      "Mariana conta 3 \n",
      "Mariana conta [1, 2, 3] é \n",
      "Ana, viva a Mariana, viva a Mariana\n",
      "\n",
      "Mariana conta 4 \n",
      "Mariana conta [1, 2, 3, 4] é \n",
      "Ana, viva a Mariana, viva a Mariana\n",
      "\n",
      "Mariana conta 5 \n",
      "Mariana conta [1, 2, 3, 4, 5] é \n",
      "Ana, viva a Mariana, viva a Mariana\n",
      "\n",
      "Mariana conta 6 \n",
      "Mariana conta [1, 2, 3, 4, 5, 6] é \n",
      "Ana, viva a Mariana, viva a Mariana\n",
      "\n",
      "Mariana conta 7 \n",
      "Mariana conta [1, 2, 3, 4, 5, 6, 7] é \n",
      "Ana, viva a Mariana, viva a Mariana\n",
      "\n",
      "Mariana conta 8 \n",
      "Mariana conta [1, 2, 3, 4, 5, 6, 7, 8] é \n",
      "Ana, viva a Mariana, viva a Mariana\n",
      "\n",
      "Mariana conta 9 \n",
      "Mariana conta [1, 2, 3, 4, 5, 6, 7, 8, 9] é \n",
      "Ana, viva a Mariana, viva a Mariana\n",
      "\n",
      "Mariana conta 10 \n",
      "Mariana conta [1, 2, 3, 4, 5, 6, 7, 8, 9, 10] é \n",
      "Ana, viva a Mariana, viva a Mariana\n",
      "\n"
     ]
    }
   ],
   "source": [
    "# Mariana nivel 1:\n",
    "conta = [1,2,3,4,5,6,7,8,9,10]\n",
    "for i in conta:\n",
    "    print('Mariana conta', i, '\\nMariana conta', conta[0:i], 'é \\nAna, viva a Mariana, viva a Mariana\\n')"
   ]
  },
  {
   "cell_type": "code",
   "execution_count": 11,
   "metadata": {},
   "outputs": [
    {
     "name": "stdout",
     "output_type": "stream",
     "text": [
      "Mariana conta 1 \n",
      "Mariana conta 1, é 1, é 1, é \n",
      "Ana, viva a Mariana, viva a Mariana\n",
      "\n",
      "Mariana conta 2 \n",
      "Mariana conta [1, 2] é \n",
      "Ana, viva a Mariana, viva a Mariana\n",
      "\n",
      "Mariana conta 3 \n",
      "Mariana conta [1, 2, 3] é \n",
      "Ana, viva a Mariana, viva a Mariana\n",
      "\n",
      "Mariana conta 4 \n",
      "Mariana conta [1, 2, 3, 4] é \n",
      "Ana, viva a Mariana, viva a Mariana\n",
      "\n",
      "Mariana conta 5 \n",
      "Mariana conta [1, 2, 3, 4, 5] é \n",
      "Ana, viva a Mariana, viva a Mariana\n",
      "\n",
      "Mariana conta 6 \n",
      "Mariana conta [1, 2, 3, 4, 5, 6] é \n",
      "Ana, viva a Mariana, viva a Mariana\n",
      "\n",
      "Mariana conta 7 \n",
      "Mariana conta [1, 2, 3, 4, 5, 6, 7] é \n",
      "Ana, viva a Mariana, viva a Mariana\n",
      "\n",
      "Mariana conta 8 \n",
      "Mariana conta [1, 2, 3, 4, 5, 6, 7, 8] é \n",
      "Ana, viva a Mariana, viva a Mariana\n",
      "\n",
      "Mariana conta 9 \n",
      "Mariana conta [1, 2, 3, 4, 5, 6, 7, 8, 9] é \n",
      "Ana, viva a Mariana, viva a Mariana\n",
      "\n",
      "Mariana conta 10 \n",
      "Mariana conta [1, 2, 3, 4, 5, 6, 7, 8, 9, 10] é \n",
      "Ana, viva a Mariana, viva a Mariana\n",
      "\n"
     ]
    }
   ],
   "source": [
    "# Mariana nivel 2:\n",
    "conta = [1,2,3,4,5,6,7,8,9,10]\n",
    "for i in conta:\n",
    "    if i == 1:\n",
    "        print('Mariana conta 1 \\nMariana conta 1, é 1, é 1, é \\nAna, viva a Mariana, viva a Mariana\\n')\n",
    "    else:\n",
    "        print('Mariana conta', i, '\\nMariana conta', conta[0:i], 'é \\nAna, viva a Mariana, viva a Mariana\\n')"
   ]
  },
  {
   "cell_type": "code",
   "execution_count": 12,
   "metadata": {},
   "outputs": [
    {
     "name": "stdout",
     "output_type": "stream",
     "text": [
      "Mariana conta 1\n",
      "Mariana conta 1, é 1, é 1, é\n",
      "Ana, viva a Mariana, viva a Mariana\n",
      "\n",
      "Mariana conta 2\n",
      "Mariana conta 2, é 1, é 2, é\n",
      "Ana, viva a Mariana, viva a Mariana\n",
      "\n",
      "Mariana conta 3\n",
      "Mariana conta 3, é 1, é 2, é 3, é\n",
      "Ana, viva a Mariana, viva a Mariana\n",
      "\n",
      "Mariana conta 4\n",
      "Mariana conta 4, é 1, é 2, é 3, é 4, é\n",
      "Ana, viva a Mariana, viva a Mariana\n",
      "\n",
      "Mariana conta 5\n",
      "Mariana conta 5, é 1, é 2, é 3, é 4, é 5, é\n",
      "Ana, viva a Mariana, viva a Mariana\n",
      "\n",
      "Mariana conta 6\n",
      "Mariana conta 6, é 1, é 2, é 3, é 4, é 5, é 6, é\n",
      "Ana, viva a Mariana, viva a Mariana\n",
      "\n",
      "Mariana conta 7\n",
      "Mariana conta 7, é 1, é 2, é 3, é 4, é 5, é 6, é 7, é\n",
      "Ana, viva a Mariana, viva a Mariana\n",
      "\n",
      "Mariana conta 8\n",
      "Mariana conta 8, é 1, é 2, é 3, é 4, é 5, é 6, é 7, é 8, é\n",
      "Ana, viva a Mariana, viva a Mariana\n",
      "\n",
      "Mariana conta 9\n",
      "Mariana conta 9, é 1, é 2, é 3, é 4, é 5, é 6, é 7, é 8, é 9, é\n",
      "Ana, viva a Mariana, viva a Mariana\n",
      "\n",
      "Mariana conta 10\n",
      "Mariana conta 10, é 1, é 2, é 3, é 4, é 5, é 6, é 7, é 8, é 9, é 10, é\n",
      "Ana, viva a Mariana, viva a Mariana\n",
      "\n"
     ]
    }
   ],
   "source": [
    "# Mariana nivel 3:\n",
    "conta = [1,2,3,4,5,6,7,8,9,10]\n",
    "for i in conta:\n",
    "    if i == 1:\n",
    "        print('Mariana conta 1\\nMariana conta 1, é 1, é 1, é\\nAna, viva a Mariana, viva a Mariana\\n')\n",
    "    else:\n",
    "        texto = f'Mariana conta {i}\\nMariana conta {i}'\n",
    "        for j in range(1, i + 1):\n",
    "            texto += f', é {j}'\n",
    "        texto += ', é\\nAna, viva a Mariana, viva a Mariana\\n'\n",
    "        print(texto)"
   ]
  }
 ],
 "metadata": {
  "kernelspec": {
   "display_name": "Python 3",
   "language": "python",
   "name": "python3"
  },
  "language_info": {
   "codemirror_mode": {
    "name": "ipython",
    "version": 3
   },
   "file_extension": ".py",
   "mimetype": "text/x-python",
   "name": "python",
   "nbconvert_exporter": "python",
   "pygments_lexer": "ipython3",
   "version": "3.13.0"
  }
 },
 "nbformat": 4,
 "nbformat_minor": 2
}
